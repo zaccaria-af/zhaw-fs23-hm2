{
 "cells": [
  {
   "cell_type": "markdown",
   "metadata": {
    "pycharm": {
     "name": "#%% md\n"
    }
   },
   "source": [
    "# Serie 2\n",
    "## Aufgabe 2\n",
    "### a)"
   ]
  },
  {
   "cell_type": "code",
   "execution_count": 36,
   "outputs": [
    {
     "data": {
      "text/plain": "⎡   5⋅y         5⋅x    ⎤\n⎢                      ⎥\n⎢     2         2      ⎥\n⎣2⋅x⋅y  + 1  2⋅x ⋅y + 2⎦",
      "image/png": "[encoded data removed]",
      "text/latex": "$\\displaystyle \\left[\\begin{matrix}5 y & 5 x\\\\2 x y^{2} + 1 & 2 x^{2} y + 2\\end{matrix}\\right]$"
     },
     "execution_count": 36,
     "metadata": {},
     "output_type": "execute_result"
    }
   ],
   "source": [
    "import sympy as sp\n",
    "x, y = sp.symbols('x y')\n",
    "sp.init_printing()\n",
    "f1 = 5*x*y\n",
    "f2 = x**2 * y**2 + x + 2*y\n",
    "\n",
    "f = sp.Matrix([f1, f2])\n",
    "X = sp.Matrix([x, y])\n",
    "Df = f.jacobian(X)\n",
    "Df"
   ],
   "metadata": {
    "collapsed": false,
    "pycharm": {
     "name": "#%%\n"
    }
   }
  },
  {
   "cell_type": "markdown",
   "source": [
    "### b)"
   ],
   "metadata": {
    "collapsed": false,
    "pycharm": {
     "name": "#%% md\n"
    }
   }
  },
  {
   "cell_type": "code",
   "execution_count": 37,
   "outputs": [
    {
     "data": {
      "text/plain": "⎡   2⋅x          2⋅y                   ⎤\n⎢ ───────      ───────         2⋅z     ⎥\n⎢  2    2       2    2                 ⎥\n⎢ x  + y       x  + y                  ⎥\n⎢                                      ⎥\n⎢                  2    2        2    2⎥\n⎢                 y  + z        y  + z ⎥\n⎢   2⋅x      2⋅y⋅ℯ         2⋅z⋅ℯ       ⎥\n⎢                                      ⎥\n⎢  -2⋅x                       -2⋅z     ⎥\n⎢──────────      2⋅y        ────────── ⎥\n⎢         2                          2 ⎥\n⎢⎛ 2    2⎞                  ⎛ 2    2⎞  ⎥\n⎣⎝x  + z ⎠                  ⎝x  + z ⎠  ⎦",
      "image/png": "[encoded data removed]",
      "text/latex": "$\\displaystyle \\left[\\begin{matrix}\\frac{2 x}{x^{2} + y^{2}} & \\frac{2 y}{x^{2} + y^{2}} & 2 z\\\\2 x & 2 y e^{y^{2} + z^{2}} & 2 z e^{y^{2} + z^{2}}\\\\- \\frac{2 x}{\\left(x^{2} + z^{2}\\right)^{2}} & 2 y & - \\frac{2 z}{\\left(x^{2} + z^{2}\\right)^{2}}\\end{matrix}\\right]$"
     },
     "execution_count": 37,
     "metadata": {},
     "output_type": "execute_result"
    }
   ],
   "source": [
    "z = sp.symbols('z')\n",
    "f1 = sp.ln(x**2 + y**2) + z**2\n",
    "f2 = sp.exp(y**2 + z**2) + x**2\n",
    "f3 = 1 / (z**2 + x**2) + y**2\n",
    "\n",
    "f = sp.Matrix([f1, f2, f3])\n",
    "X = sp.Matrix([x, y, z])\n",
    "Df = f.jacobian(X)\n",
    "Df"
   ],
   "metadata": {
    "collapsed": false,
    "pycharm": {
     "name": "#%%\n"
    }
   }
  },
  {
   "cell_type": "markdown",
   "source": [
    "## Aufgabe 3"
   ],
   "metadata": {
    "collapsed": false,
    "pycharm": {
     "name": "#%% md\n"
    }
   }
  },
  {
   "cell_type": "code",
   "execution_count": 38,
   "outputs": [
    {
     "data": {
      "text/plain": "⎡               x + 6⋅y - 5.0⋅z - 15.75               ⎤\n⎢                                                     ⎥\n⎢y                                                    ⎥\n⎢─ + 0.642012708343871⋅z - 2.32100635417194 + log(3/4)⎥\n⎢3                                                    ⎥\n⎢                                                     ⎥\n⎣                   38.25 - 18.75⋅z                   ⎦",
      "image/png": "[encoded data removed]",
      "text/latex": "$\\displaystyle \\left[\\begin{matrix}x + 6 y - 5.0 z - 15.75\\\\\\frac{y}{3} + 0.642012708343871 z - 2.32100635417194 + \\log{\\left(\\frac{3}{4} \\right)}\\\\38.25 - 18.75 z\\end{matrix}\\right]$"
     },
     "execution_count": 38,
     "metadata": {},
     "output_type": "execute_result"
    }
   ],
   "source": [
    "f1 = x + y**2 - z**2 - 13\n",
    "f2 = sp.ln(y/4) + sp.exp(0.5 * z - 1) - 1\n",
    "f3 = (y - 3)**2 - z**3 + 7\n",
    "\n",
    "x0 = sp.Matrix([1.5, 3, 2.5]).T\n",
    "f = sp.Matrix([f1, f2, f3])\n",
    "X = sp.Matrix([x, y, z])\n",
    "Df = f.jacobian(X)\n",
    "\n",
    "# Linearisierung\n",
    "f0 = f.subs([(x, x0[0]), (y, x0[1]), (z, x0[2])])\n",
    "Df0 = Df.subs([(x, x0[0]), (y, x0[1]), (z, x0[2])])\n",
    "\n",
    "p1 = x - x0[0]\n",
    "p2 = y - x0[1]\n",
    "p3 = z - x0[2]\n",
    "p = sp.Matrix([p1, p2, p3])\n",
    "\n",
    "g = f0 + Df0 * p\n",
    "g"
   ],
   "metadata": {
    "collapsed": false,
    "pycharm": {
     "name": "#%%\n"
    }
   }
  }
 ],
 "metadata": {
  "kernelspec": {
   "display_name": "Python 3 (ipykernel)",
   "language": "python",
   "name": "python3"
  },
  "language_info": {
   "codemirror_mode": {
    "name": "ipython",
    "version": 3
   },
   "file_extension": ".py",
   "mimetype": "text/x-python",
   "name": "python",
   "nbconvert_exporter": "python",
   "pygments_lexer": "ipython3",
   "version": "3.10.4"
  }
 },
 "nbformat": 4,
 "nbformat_minor": 1
}